{
 "cells": [
  {
   "cell_type": "markdown",
   "id": "8a8e7c2c",
   "metadata": {},
   "source": [
    "TOPIC 14\n",
    "TASK 01 "
   ]
  },
  {
   "cell_type": "code",
   "execution_count": 1,
   "id": "2c6ad55d",
   "metadata": {},
   "outputs": [
    {
     "name": "stdout",
     "output_type": "stream",
     "text": [
      "55\n",
      "55\n"
     ]
    }
   ],
   "source": [
    "def fib_memoization(n, memo={}):\n",
    "    if n in memo:\n",
    "        return memo[n]\n",
    "    if n <= 1:\n",
    "        return n\n",
    "    memo[n] = fib_memoization(n - 1, memo) + fib_memoization(n - 2, memo)\n",
    "    return memo[n]\n",
    "\n",
    "def fib_tabulation(n):\n",
    "    if n <= 1:\n",
    "        return n\n",
    "    table = [0] * (n + 1)\n",
    "    table[1] = 1\n",
    "    for i in range(2, n + 1):\n",
    "        table[i] = table[i - 1] + table[i - 2]\n",
    "    return table[n]\n",
    "\n",
    "print(fib_memoization(10))\n",
    "print(fib_tabulation(10))\n"
   ]
  },
  {
   "cell_type": "markdown",
   "id": "3d87b45c",
   "metadata": {},
   "source": [
    "TASK 02"
   ]
  },
  {
   "cell_type": "code",
   "execution_count": 2,
   "id": "c92b0bad",
   "metadata": {},
   "outputs": [
    {
     "name": "stdout",
     "output_type": "stream",
     "text": [
      "Memoization LCS: GTAB\n",
      "Tabulation LCS: GTAB\n"
     ]
    }
   ],
   "source": [
    "def lcs_memo(s1, s2):\n",
    "    memo = {}\n",
    "    def helper(i, j):\n",
    "        if i == len(s1) or j == len(s2):\n",
    "            return \"\"\n",
    "        if (i, j) in memo:\n",
    "            return memo[(i, j)]\n",
    "        if s1[i] == s2[j]:\n",
    "            memo[(i, j)] = s1[i] + helper(i + 1, j + 1)\n",
    "        else:\n",
    "            res1 = helper(i + 1, j)\n",
    "            res2 = helper(i, j + 1)\n",
    "            memo[(i, j)] = res1 if len(res1) > len(res2) else res2\n",
    "        return memo[(i, j)]\n",
    "    return helper(0, 0)\n",
    "\n",
    "def lcs_tabulation(s1, s2):\n",
    "    m, n = len(s1), len(s2)\n",
    "    dp = [[\"\"] * (n + 1) for _ in range(m + 1)]\n",
    "    for i in range(m - 1, -1, -1):\n",
    "        for j in range(n - 1, -1, -1):\n",
    "            if s1[i] == s2[j]:\n",
    "                dp[i][j] = s1[i] + dp[i + 1][j + 1]\n",
    "            else:\n",
    "                dp[i][j] = dp[i + 1][j] if len(dp[i + 1][j]) > len(dp[i][j + 1]) else dp[i][j + 1]\n",
    "    return dp[0][0]\n",
    "\n",
    "s1 = \"AGGTAB\"\n",
    "s2 = \"GXTXAYB\"\n",
    "print(\"Memoization LCS:\", lcs_memo(s1, s2))\n",
    "print(\"Tabulation LCS:\", lcs_tabulation(s1, s2))\n"
   ]
  },
  {
   "cell_type": "markdown",
   "id": "1a75386e",
   "metadata": {},
   "source": [
    "TASK 03"
   ]
  },
  {
   "cell_type": "code",
   "execution_count": 3,
   "id": "b20e61a7",
   "metadata": {},
   "outputs": [
    {
     "name": "stdout",
     "output_type": "stream",
     "text": [
      "7\n"
     ]
    }
   ],
   "source": [
    "def knapsack(weights, values, capacity):\n",
    "    n = len(weights)\n",
    "    dp = [[0] * (capacity + 1) for _ in range(n + 1)]\n",
    "    for i in range(1, n + 1):\n",
    "        for w in range(1, capacity + 1):\n",
    "            if weights[i - 1] <= w:\n",
    "                dp[i][w] = max(dp[i - 1][w], dp[i - 1][w - weights[i - 1]] + values[i - 1])\n",
    "            else:\n",
    "                dp[i][w] = dp[i - 1][w]\n",
    "    return dp[n][capacity]\n",
    "\n",
    "weights = [2, 3, 4, 5]\n",
    "values = [3, 4, 5, 6]\n",
    "capacity = 5\n",
    "print(knapsack(weights, values, capacity))\n"
   ]
  },
  {
   "cell_type": "markdown",
   "id": "d163be3f",
   "metadata": {},
   "source": [
    "📊 Time & Space Complexity\n",
    "Time Complexity: O(n * W)\n",
    "where n is the number of items and W is the capacity.\n",
    "\n",
    "Space Complexity: O(n * W) (can be reduced to O(W) with optimization)"
   ]
  },
  {
   "cell_type": "markdown",
   "id": "312d9751",
   "metadata": {},
   "source": [
    "🌍 Real-World Applications\n",
    "Budget optimization: Choosing the best combination of investments or purchases within a spending limit.\n",
    "\n",
    "Resource allocation: Assigning limited computing or storage resources to maximize efficiency.\n",
    "\n",
    "Cargo loading: Selecting cargo that maximizes profit without exceeding vehicle capacity.\n",
    "\n",
    "Portfolio selection: Picking assets to maximize return under a risk (weight) constraint."
   ]
  },
  {
   "cell_type": "code",
   "execution_count": null,
   "id": "6c68fea1",
   "metadata": {},
   "outputs": [],
   "source": []
  }
 ],
 "metadata": {
  "kernelspec": {
   "display_name": "Python 3",
   "language": "python",
   "name": "python3"
  },
  "language_info": {
   "codemirror_mode": {
    "name": "ipython",
    "version": 3
   },
   "file_extension": ".py",
   "mimetype": "text/x-python",
   "name": "python",
   "nbconvert_exporter": "python",
   "pygments_lexer": "ipython3",
   "version": "3.12.10"
  }
 },
 "nbformat": 4,
 "nbformat_minor": 5
}
