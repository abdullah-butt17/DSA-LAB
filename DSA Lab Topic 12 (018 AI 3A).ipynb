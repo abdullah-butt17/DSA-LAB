{
 "cells": [
  {
   "cell_type": "code",
   "execution_count": 1,
   "id": "4261ba06",
   "metadata": {},
   "outputs": [],
   "source": [
    "# Topic 12: Graph Data Structure \n",
    "# Task 1: Implementing a Graph Using Adjacency List & Adjacency Matrix "
   ]
  },
  {
   "cell_type": "code",
   "execution_count": 2,
   "id": "deea10aa",
   "metadata": {},
   "outputs": [],
   "source": [
    "class Graph:\n",
    "    def __init__(self, directed=False):\n",
    "        self.directed = directed\n",
    "        self.adj_list = {}\n",
    "        self.vertices = []\n",
    "        self.adj_matrix = []\n",
    "\n",
    "    def add_vertex(self, vertex):\n",
    "        if vertex not in self.adj_list:\n",
    "            self.adj_list[vertex] = []\n",
    "            self.vertices.append(vertex)\n",
    "            # Update adjacency matrix\n",
    "            size = len(self.vertices)\n",
    "            for row in self.adj_matrix:\n",
    "                row.append(0)\n",
    "            self.adj_matrix.append([0] * size)\n",
    "\n",
    "    def add_edge(self, src, dest):\n",
    "        if src in self.adj_list and dest in self.adj_list:\n",
    "            self.adj_list[src].append(dest)\n",
    "            src_index = self.vertices.index(src)\n",
    "            dest_index = self.vertices.index(dest)\n",
    "            self.adj_matrix[src_index][dest_index] = 1\n",
    "            if not self.directed:\n",
    "                self.adj_list[dest].append(src)\n",
    "                self.adj_matrix[dest_index][src_index] = 1\n",
    "\n",
    "    def display_adj_list(self):\n",
    "        print(\"Adjacency List:\", self.adj_list)\n",
    "\n",
    "    def display_adj_matrix(self):\n",
    "        print(\"Adjacency Matrix:\")\n",
    "        print(\"  \", \" \".join(self.vertices))\n",
    "        for i, row in enumerate(self.adj_matrix):\n",
    "            print(self.vertices[i], row)"
   ]
  },
  {
   "cell_type": "code",
   "execution_count": 3,
   "id": "6d03b6e5",
   "metadata": {},
   "outputs": [],
   "source": [
    "# Task 2: Implementing Breadth-First Search (BFS) & Depth-First Search "
   ]
  },
  {
   "cell_type": "code",
   "execution_count": 4,
   "id": "83679a9b",
   "metadata": {},
   "outputs": [
    {
     "name": "stdout",
     "output_type": "stream",
     "text": [
      "BFS: [0, 1, 2, 3]\n",
      "DFS (Recursive): [0, 1, 3, 2]\n",
      "DFS (Iterative): [0, 1, 3, 2]\n"
     ]
    }
   ],
   "source": [
    "from collections import deque\n",
    "\n",
    "class Graph(Graph):  # Extending the existing Graph class\n",
    "    def bfs(self, start_vertex):\n",
    "        visited = set()\n",
    "        queue = deque([start_vertex])\n",
    "        traversal = []\n",
    "\n",
    "        while queue:\n",
    "            vertex = queue.popleft()\n",
    "            if vertex not in visited:\n",
    "                visited.add(vertex)\n",
    "                traversal.append(vertex)\n",
    "                queue.extend([v for v in self.adj_list[vertex] if v not in visited])\n",
    "\n",
    "        return traversal\n",
    "\n",
    "    def dfs_recursive(self, start_vertex, visited=None, traversal=None):\n",
    "        if visited is None:\n",
    "            visited = set()\n",
    "        if traversal is None:\n",
    "            traversal = []\n",
    "\n",
    "        visited.add(start_vertex)\n",
    "        traversal.append(start_vertex)\n",
    "\n",
    "        for neighbor in self.adj_list[start_vertex]:\n",
    "            if neighbor not in visited:\n",
    "                self.dfs_recursive(neighbor, visited, traversal)\n",
    "\n",
    "        return traversal\n",
    "\n",
    "    def dfs_iterative(self, start_vertex):\n",
    "        visited = set()\n",
    "        stack = [start_vertex]\n",
    "        traversal = []\n",
    "\n",
    "        while stack:\n",
    "            vertex = stack.pop()\n",
    "            if vertex not in visited:\n",
    "                visited.add(vertex)\n",
    "                traversal.append(vertex)\n",
    "                stack.extend([v for v in reversed(self.adj_list[vertex]) if v not in visited])\n",
    "\n",
    "        return traversal\n",
    "\n",
    "# Example usage\n",
    "g = Graph(directed=False)\n",
    "g.add_vertex(0)\n",
    "g.add_vertex(1)\n",
    "g.add_vertex(2)\n",
    "g.add_vertex(3)\n",
    "g.add_edge(0, 1)\n",
    "g.add_edge(0, 2)\n",
    "g.add_edge(1, 3)\n",
    "g.add_edge(2, 3)\n",
    "\n",
    "print(\"BFS:\", g.bfs(0))  # Output: [0, 1, 2, 3]\n",
    "print(\"DFS (Recursive):\", g.dfs_recursive(0))  # Output: [0, 1, 3, 2] or another valid DFS order\n",
    "print(\"DFS (Iterative):\", g.dfs_iterative(0))  # Output: [0, 2, 3, 1] or another valid DFS order"
   ]
  },
  {
   "cell_type": "code",
   "execution_count": 5,
   "id": "4628a884",
   "metadata": {},
   "outputs": [],
   "source": [
    "# Task 3: Implementing Dijkstra’s Algorithm for Shortest Path "
   ]
  },
  {
   "cell_type": "code",
   "execution_count": 10,
   "id": "914be39b",
   "metadata": {},
   "outputs": [
    {
     "name": "stdout",
     "output_type": "stream",
     "text": [
      "{'A': 0, 'B': 3, 'C': 1, 'D': 4}\n"
     ]
    }
   ],
   "source": [
    "import heapq\n",
    "\n",
    "class Graph:\n",
    "    def __init__(self):\n",
    "        self.adj_list = {}\n",
    "\n",
    "    def add_edge(self, src, dest, weight):\n",
    "        if src not in self.adj_list:\n",
    "            self.adj_list[src] = []\n",
    "        if dest not in self.adj_list:\n",
    "            self.adj_list[dest] = []\n",
    "        self.adj_list[src].append((dest, weight))\n",
    "\n",
    "    def dijkstra(self, start):\n",
    "        distances = {vertex: float('inf') for vertex in self.adj_list}\n",
    "        distances[start] = 0\n",
    "        heap = [(0, start)]\n",
    "\n",
    "        while heap:\n",
    "            current_dist, current_vertex = heapq.heappop(heap)\n",
    "            if current_dist > distances[current_vertex]:\n",
    "                continue\n",
    "            for neighbor, weight in self.adj_list[current_vertex]:\n",
    "                distance = current_dist + weight\n",
    "                if distance < distances[neighbor]:\n",
    "                    distances[neighbor] = distance\n",
    "                    heapq.heappush(heap, (distance, neighbor))\n",
    "        return distances\n",
    "\n",
    "# Example usage\n",
    "g = Graph()\n",
    "g.add_edge(\"A\", \"B\", 4)\n",
    "g.add_edge(\"A\", \"C\", 1)\n",
    "g.add_edge(\"C\", \"B\", 2)\n",
    "g.add_edge(\"B\", \"D\", 1)\n",
    "print(g.dijkstra(\"A\")) "
   ]
  },
  {
   "cell_type": "code",
   "execution_count": null,
   "id": "c3cb026d",
   "metadata": {},
   "outputs": [],
   "source": []
  }
 ],
 "metadata": {
  "kernelspec": {
   "display_name": "Python 3",
   "language": "python",
   "name": "python3"
  },
  "language_info": {
   "codemirror_mode": {
    "name": "ipython",
    "version": 3
   },
   "file_extension": ".py",
   "mimetype": "text/x-python",
   "name": "python",
   "nbconvert_exporter": "python",
   "pygments_lexer": "ipython3",
   "version": "3.12.10"
  }
 },
 "nbformat": 4,
 "nbformat_minor": 5
}
