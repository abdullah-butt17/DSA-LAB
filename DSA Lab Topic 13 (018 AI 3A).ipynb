{
 "cells": [
  {
   "cell_type": "markdown",
   "id": "029d3528",
   "metadata": {},
   "source": [
    "TOPIC 13 \n",
    "Task 01"
   ]
  },
  {
   "cell_type": "code",
   "execution_count": 1,
   "id": "f72e7b14",
   "metadata": {},
   "outputs": [
    {
     "name": "stdout",
     "output_type": "stream",
     "text": [
      "[(1, 2), (3, 4), (5, 7), (8, 9)]\n"
     ]
    }
   ],
   "source": [
    "def activity_selection(activities):\n",
    "    sorted_activities = sorted(activities, key=lambda x: x[1])\n",
    "    selected = []\n",
    "    last_end_time = 0\n",
    "    for start, end in sorted_activities:\n",
    "        if start >= last_end_time:\n",
    "            selected.append((start, end))\n",
    "            last_end_time = end\n",
    "    return selected\n",
    "\n",
    "activities = [(1, 2), (3, 4), (0, 6), (5, 7), (8, 9), (5, 9)]\n",
    "print(activity_selection(activities))\n"
   ]
  },
  {
   "cell_type": "markdown",
   "id": "ac2cf6fb",
   "metadata": {},
   "source": [
    "TASK 02"
   ]
  },
  {
   "cell_type": "code",
   "execution_count": 2,
   "id": "6033111b",
   "metadata": {},
   "outputs": [
    {
     "name": "stdout",
     "output_type": "stream",
     "text": [
      "Huffman Codes: {'l': '00', 'e': '01', 'y': '100', 'r': '1010', 'g': '1011', 'd': '1100', ' ': '1101', 'h': '1110', 'o': '1111'}\n",
      "Encoded String: 1110010000111111011011101001011100100\n",
      "Original size: 96 bits\n",
      "Compressed size: 37 bits\n"
     ]
    }
   ],
   "source": [
    "import heapq\n",
    "from collections import defaultdict, Counter\n",
    "\n",
    "class Node:\n",
    "    def __init__(self, char=None, freq=0):\n",
    "        self.char = char\n",
    "        self.freq = freq\n",
    "        self.left = None\n",
    "        self.right = None\n",
    "    def __lt__(self, other):\n",
    "        return self.freq < other.freq\n",
    "\n",
    "def build_huffman_tree(text):\n",
    "    frequency = Counter(text)\n",
    "    heap = [Node(char, freq) for char, freq in frequency.items()]\n",
    "    heapq.heapify(heap)\n",
    "    while len(heap) > 1:\n",
    "        left = heapq.heappop(heap)\n",
    "        right = heapq.heappop(heap)\n",
    "        merged = Node(freq=left.freq + right.freq)\n",
    "        merged.left = left\n",
    "        merged.right = right\n",
    "        heapq.heappush(heap, merged)\n",
    "    return heap[0]\n",
    "\n",
    "def generate_codes(node, code='', code_map={}):\n",
    "    if node:\n",
    "        if node.char is not None:\n",
    "            code_map[node.char] = code\n",
    "        generate_codes(node.left, code + '0', code_map)\n",
    "        generate_codes(node.right, code + '1', code_map)\n",
    "    return code_map\n",
    "\n",
    "def huffman_encoding(text):\n",
    "    if not text:\n",
    "        return {}, ''\n",
    "    root = build_huffman_tree(text)\n",
    "    codes = generate_codes(root)\n",
    "    encoded = ''.join(codes[char] for char in text)\n",
    "    return codes, encoded\n",
    "\n",
    "def compare_sizes(text, encoded):\n",
    "    original_bits = len(text) * 8\n",
    "    compressed_bits = len(encoded)\n",
    "    return original_bits, compressed_bits\n",
    "\n",
    "text = \"hello greedy\"\n",
    "codes, encoded = huffman_encoding(text)\n",
    "print(\"Huffman Codes:\", codes)\n",
    "print(\"Encoded String:\", encoded)\n",
    "original_bits, compressed_bits = compare_sizes(text, encoded)\n",
    "print(f\"Original size: {original_bits} bits\")\n",
    "print(f\"Compressed size: {compressed_bits} bits\")\n"
   ]
  },
  {
   "cell_type": "markdown",
   "id": "3646c9c4",
   "metadata": {},
   "source": [
    "TASK 03"
   ]
  },
  {
   "cell_type": "code",
   "execution_count": 3,
   "id": "1a7e4bce",
   "metadata": {},
   "outputs": [
    {
     "name": "stdout",
     "output_type": "stream",
     "text": [
      "[(2, 3, 1), (3, 4, 2), (1, 3, 3)]\n"
     ]
    }
   ],
   "source": [
    "def find(parent, i):\n",
    "    if parent[i] != i:\n",
    "        parent[i] = find(parent, parent[i])\n",
    "    return parent[i]\n",
    "\n",
    "def union(parent, rank, x, y):\n",
    "    xroot = find(parent, x)\n",
    "    yroot = find(parent, y)\n",
    "    if rank[xroot] < rank[yroot]:\n",
    "        parent[xroot] = yroot\n",
    "    elif rank[xroot] > rank[yroot]:\n",
    "        parent[yroot] = xroot\n",
    "    else:\n",
    "        parent[yroot] = xroot\n",
    "        rank[xroot] += 1\n",
    "\n",
    "def kruskal(edges, n_vertices):\n",
    "    edges.sort(key=lambda x: x[2])\n",
    "    parent = [i for i in range(n_vertices + 1)]\n",
    "    rank = [0] * (n_vertices + 1)\n",
    "    mst = []\n",
    "    for u, v, weight in edges:\n",
    "        if find(parent, u) != find(parent, v):\n",
    "            mst.append((u, v, weight))\n",
    "            union(parent, rank, u, v)\n",
    "    return mst\n",
    "\n",
    "edges = [(1, 2, 4), (2, 3, 1), (1, 3, 3), (3, 4, 2)]\n",
    "print(kruskal(edges, 4))\n"
   ]
  },
  {
   "cell_type": "markdown",
   "id": "f7317aad",
   "metadata": {},
   "source": [
    "🧠 Greedy Strategy in Kruskal's Algorithm\n",
    "Kruskal’s algorithm greedily picks the smallest weight edge that doesn’t form a cycle.\n",
    "\n",
    "It builds the MST step-by-step, always choosing the next most cost-effective edge."
   ]
  },
  {
   "cell_type": "markdown",
   "id": "eed790b1",
   "metadata": {},
   "source": [
    "🔁 Comparison with Prim’s Algorithm\n",
    "Feature\tKruskal's Algorithm\tPrim's Algorithm\n",
    "Edge Selection\tGlobal: Always pick min weight edge  \tLocal: Expand from current vertex\n",
    "Data Structure\t   Disjoint-set (Union-Find)\tPriority Queue (Min-Heap)\n",
    "Suitable for\t   Sparse graphs\t  Dense graphs\n",
    "Time Complexity\t   O(E log E)\t      O(E + V log V) with heap"
   ]
  },
  {
   "cell_type": "code",
   "execution_count": null,
   "id": "86acc1f7",
   "metadata": {},
   "outputs": [],
   "source": []
  }
 ],
 "metadata": {
  "kernelspec": {
   "display_name": "Python 3",
   "language": "python",
   "name": "python3"
  },
  "language_info": {
   "codemirror_mode": {
    "name": "ipython",
    "version": 3
   },
   "file_extension": ".py",
   "mimetype": "text/x-python",
   "name": "python",
   "nbconvert_exporter": "python",
   "pygments_lexer": "ipython3",
   "version": "3.12.10"
  }
 },
 "nbformat": 4,
 "nbformat_minor": 5
}
