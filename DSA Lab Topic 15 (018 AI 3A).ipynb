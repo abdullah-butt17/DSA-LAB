{
 "cells": [
  {
   "cell_type": "markdown",
   "id": "452023f2",
   "metadata": {},
   "source": [
    "TOPIC 15\n",
    "TASK 01"
   ]
  },
  {
   "cell_type": "code",
   "execution_count": 1,
   "id": "5f83be27",
   "metadata": {},
   "outputs": [
    {
     "name": "stdout",
     "output_type": "stream",
     "text": [
      ".Q..\n",
      "...Q\n",
      "Q...\n",
      "..Q.\n",
      "\n",
      "..Q.\n",
      "Q...\n",
      "...Q\n",
      ".Q..\n",
      "\n"
     ]
    }
   ],
   "source": [
    "def solve_n_queens(n):\n",
    "    solutions = []\n",
    "    board = [-1] * n\n",
    "\n",
    "    def is_safe(row, col):\n",
    "        for r in range(row):\n",
    "            if board[r] == col or abs(board[r] - col) == abs(r - row):\n",
    "                return False\n",
    "        return True\n",
    "\n",
    "    def backtrack(row):\n",
    "        if row == n:\n",
    "            solution = []\n",
    "            for i in range(n):\n",
    "                line = ['.'] * n\n",
    "                line[board[i]] = 'Q'\n",
    "                solution.append(\"\".join(line))\n",
    "            solutions.append(solution)\n",
    "            return\n",
    "        for col in range(n):\n",
    "            if is_safe(row, col):\n",
    "                board[row] = col\n",
    "                backtrack(row + 1)\n",
    "                board[row] = -1\n",
    "\n",
    "    backtrack(0)\n",
    "    return solutions\n",
    "\n",
    "# Example Output\n",
    "result = solve_n_queens(4)\n",
    "for solution in result:\n",
    "    for row in solution:\n",
    "        print(row)\n",
    "    print()\n"
   ]
  },
  {
   "cell_type": "markdown",
   "id": "82a93eb0",
   "metadata": {},
   "source": [
    "📈 Time Complexity\n",
    "Worst-case Time Complexity: O(N!)\n",
    "\n",
    "For each row, we try up to N columns.\n",
    "\n",
    "Due to constraint propagation (is_safe), many invalid paths are pruned early.\n",
    "\n",
    "Space Complexity: O(N) for the board + output list size"
   ]
  },
  {
   "cell_type": "markdown",
   "id": "9e9a2278",
   "metadata": {},
   "source": [
    "TASK 02"
   ]
  },
  {
   "cell_type": "code",
   "execution_count": 2,
   "id": "094a8535",
   "metadata": {},
   "outputs": [
    {
     "name": "stdout",
     "output_type": "stream",
     "text": [
      "['ABC', 'ACB', 'BAC', 'BCA', 'CBA', 'CAB']\n"
     ]
    }
   ],
   "source": [
    "def permute(s):\n",
    "    def backtrack(start, end, result):\n",
    "        if start == end:\n",
    "            result.append(''.join(s))\n",
    "        for i in range(start, end):\n",
    "            # Swap to create a new permutation\n",
    "            s[start], s[i] = s[i], s[start]\n",
    "            backtrack(start + 1, end, result)\n",
    "            # Backtrack: undo the swap\n",
    "            s[start], s[i] = s[i], s[start]\n",
    "\n",
    "    result = []\n",
    "    s = list(s)  # Convert string to list for easier character swapping\n",
    "    backtrack(0, len(s), result)\n",
    "    return result\n",
    "\n",
    "# Example Output\n",
    "print(permute(\"ABC\"))\n"
   ]
  },
  {
   "cell_type": "markdown",
   "id": "04842a0a",
   "metadata": {},
   "source": [
    "TASK 03"
   ]
  },
  {
   "cell_type": "code",
   "execution_count": 3,
   "id": "20a380b9",
   "metadata": {},
   "outputs": [
    {
     "name": "stdout",
     "output_type": "stream",
     "text": [
      "Solved Sudoku Board:\n",
      "[5, 3, 4, 6, 7, 8, 9, 1, 2]\n",
      "[6, 7, 2, 1, 9, 5, 3, 4, 8]\n",
      "[1, 9, 8, 3, 4, 2, 5, 6, 7]\n",
      "[8, 5, 9, 7, 6, 1, 4, 2, 3]\n",
      "[4, 2, 6, 8, 5, 3, 7, 9, 1]\n",
      "[7, 1, 3, 9, 2, 4, 8, 5, 6]\n",
      "[9, 6, 1, 5, 3, 7, 2, 8, 4]\n",
      "[2, 8, 7, 4, 1, 9, 6, 3, 5]\n",
      "[3, 4, 5, 2, 8, 6, 1, 7, 9]\n"
     ]
    }
   ],
   "source": [
    "def is_safe(board, row, col, num):\n",
    "    # Check if the number is not repeated in the row, column, or subgrid\n",
    "    for i in range(9):\n",
    "        if board[row][i] == num or board[i][col] == num:\n",
    "            return False\n",
    "    start_row, start_col = 3 * (row // 3), 3 * (col // 3)\n",
    "    for i in range(3):\n",
    "        for j in range(3):\n",
    "            if board[start_row + i][start_col + j] == num:\n",
    "                return False\n",
    "    return True\n",
    "\n",
    "def solve_sudoku(board):\n",
    "    def backtrack():\n",
    "        # Find the first empty cell (denoted by 0)\n",
    "        for row in range(9):\n",
    "            for col in range(9):\n",
    "                if board[row][col] == 0:\n",
    "                    # Try all numbers from 1 to 9\n",
    "                    for num in range(1, 10):\n",
    "                        if is_safe(board, row, col, num):\n",
    "                            board[row][col] = num\n",
    "                            if backtrack():\n",
    "                                return True\n",
    "                            # Backtrack\n",
    "                            board[row][col] = 0\n",
    "                    return False\n",
    "        return True  # If no empty cell exists, the board is solved\n",
    "    \n",
    "    backtrack()\n",
    "    return board\n",
    "\n",
    "# Example Input\n",
    "sudoku_board = [\n",
    "    [5, 3, 0, 0, 7, 0, 0, 0, 0],\n",
    "    [6, 0, 0, 1, 9, 5, 0, 0, 0],\n",
    "    [0, 9, 8, 0, 0, 0, 0, 6, 0],\n",
    "    [8, 0, 0, 0, 6, 0, 0, 0, 3],\n",
    "    [4, 0, 0, 8, 0, 3, 0, 0, 1],\n",
    "    [7, 0, 0, 0, 2, 0, 0, 0, 6],\n",
    "    [0, 6, 0, 0, 0, 0, 2, 8, 0],\n",
    "    [0, 0, 0, 4, 1, 9, 0, 0, 5],\n",
    "    [0, 0, 0, 0, 8, 0, 0, 7, 9]\n",
    "]\n",
    "\n",
    "solved_board = solve_sudoku(sudoku_board)\n",
    "print(\"Solved Sudoku Board:\")\n",
    "for row in solved_board:\n",
    "    print(row)\n"
   ]
  },
  {
   "cell_type": "code",
   "execution_count": null,
   "id": "dceb5c81",
   "metadata": {},
   "outputs": [],
   "source": []
  }
 ],
 "metadata": {
  "kernelspec": {
   "display_name": "Python 3",
   "language": "python",
   "name": "python3"
  },
  "language_info": {
   "codemirror_mode": {
    "name": "ipython",
    "version": 3
   },
   "file_extension": ".py",
   "mimetype": "text/x-python",
   "name": "python",
   "nbconvert_exporter": "python",
   "pygments_lexer": "ipython3",
   "version": "3.12.10"
  }
 },
 "nbformat": 4,
 "nbformat_minor": 5
}
