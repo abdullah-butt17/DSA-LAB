{
 "cells": [
  {
   "cell_type": "code",
   "execution_count": 1,
   "id": "7fb62251",
   "metadata": {},
   "outputs": [],
   "source": [
    "# Topic 6: Trees & Binary Search Trees (BST) \n",
    "# Task 1: Implementing a Binary Search Tree (BST) with Basic Operations "
   ]
  },
  {
   "cell_type": "code",
   "execution_count": 2,
   "id": "8c45d0ed",
   "metadata": {},
   "outputs": [
    {
     "name": "stdout",
     "output_type": "stream",
     "text": [
      "Inorder Traversal: [20, 30, 40, 50, 60, 70, 80]\n",
      "Search 40: True\n",
      "Search 90: False\n",
      "Inorder Traversal after deleting 50: [20, 30, 40, 60, 70, 80]\n"
     ]
    }
   ],
   "source": [
    "class Node:\n",
    "    def __init__(self, value):\n",
    "        self.value = value\n",
    "        self.left = None\n",
    "        self.right = None\n",
    "\n",
    "class BinarySearchTree:\n",
    "    def __init__(self):\n",
    "        self.root = None\n",
    "\n",
    "    def insert(self, value):\n",
    "        if self.root is None:\n",
    "            self.root = Node(value)\n",
    "        else:\n",
    "            self._insert(self.root, value)\n",
    "\n",
    "    def _insert(self, current, value):\n",
    "        if value < current.value:\n",
    "            if current.left is None:\n",
    "                current.left = Node(value)\n",
    "            else:\n",
    "                self._insert(current.left, value)\n",
    "        elif value > current.value:\n",
    "            if current.right is None:\n",
    "                current.right = Node(value)\n",
    "            else:\n",
    "                self._insert(current.right, value)\n",
    "\n",
    "    def search(self, value):\n",
    "        return self._search(self.root, value)\n",
    "\n",
    "    def _search(self, current, value):\n",
    "        if current is None:\n",
    "            return False\n",
    "        if current.value == value:\n",
    "            return True\n",
    "        elif value < current.value:\n",
    "            return self._search(current.left, value)\n",
    "        else:\n",
    "            return self._search(current.right, value)\n",
    "\n",
    "    def delete(self, value):\n",
    "        self.root = self._delete(self.root, value)\n",
    "\n",
    "    def _delete(self, current, value):\n",
    "        if current is None:\n",
    "            return current\n",
    "        if value < current.value:\n",
    "            current.left = self._delete(current.left, value)\n",
    "        elif value > current.value:\n",
    "            current.right = self._delete(current.right, value)\n",
    "        else:\n",
    "            # Node with only one child or no child\n",
    "            if current.left is None:\n",
    "                return current.right\n",
    "            elif current.right is None:\n",
    "                return current.left\n",
    "            # Node with two children: Get the inorder successor\n",
    "            temp = self._min_value_node(current.right)\n",
    "            current.value = temp.value\n",
    "            current.right = self._delete(current.right, temp.value)\n",
    "        return current\n",
    "\n",
    "    def _min_value_node(self, node):\n",
    "        current = node\n",
    "        while current.left is not None:\n",
    "            current = current.left\n",
    "        return current\n",
    "\n",
    "    def inorder_traversal(self):\n",
    "        result = []\n",
    "        self._inorder_traversal(self.root, result)\n",
    "        return result\n",
    "\n",
    "    def _inorder_traversal(self, current, result):\n",
    "        if current:\n",
    "            self._inorder_traversal(current.left, result)\n",
    "            result.append(current.value)\n",
    "            self._inorder_traversal(current.right, result)\n",
    "\n",
    "# Testing the BST\n",
    "bst = BinarySearchTree()\n",
    "bst.insert(50)\n",
    "bst.insert(30)\n",
    "bst.insert(70)\n",
    "bst.insert(20)\n",
    "bst.insert(40)\n",
    "bst.insert(60)\n",
    "bst.insert(80)\n",
    "\n",
    "# Inorder traversal\n",
    "print(\"Inorder Traversal:\", bst.inorder_traversal())\n",
    "\n",
    "# Search for a value\n",
    "print(\"Search 40:\", bst.search(40))\n",
    "print(\"Search 90:\", bst.search(90))\n",
    "\n",
    "# Delete a value\n",
    "bst.delete(50)\n",
    "print(\"Inorder Traversal after deleting 50:\", bst.inorder_traversal())"
   ]
  },
  {
   "cell_type": "code",
   "execution_count": 3,
   "id": "ca72f842",
   "metadata": {},
   "outputs": [],
   "source": [
    "# Task 2: Finding the Lowest Common Ancestor (LCA) in a BST "
   ]
  },
  {
   "cell_type": "code",
   "execution_count": 4,
   "id": "d0149f5d",
   "metadata": {},
   "outputs": [
    {
     "name": "stdout",
     "output_type": "stream",
     "text": [
      "LCA(5, 15): None\n",
      "LCA(5, 25): 20\n",
      "LCA(25, 35): 30\n"
     ]
    }
   ],
   "source": [
    "def find_lca(root, n1, n2):\n",
    "    if root is None:\n",
    "        return None\n",
    "\n",
    "    # If both nodes are smaller than root, LCA lies in the left subtree\n",
    "    if n1 < root.value and n2 < root.value:\n",
    "        return find_lca(root.left, n1, n2)\n",
    "\n",
    "    # If both nodes are greater than root, LCA lies in the right subtree\n",
    "    if n1 > root.value and n2 > root.value:\n",
    "        return find_lca(root.right, n1, n2)\n",
    "\n",
    "    # If one node is on the left and the other is on the right, root is the LCA\n",
    "    return root.value\n",
    "\n",
    "# Test cases\n",
    "print(\"LCA(5, 15):\", find_lca(bst.root, 5, 15))  # Output: 10\n",
    "print(\"LCA(5, 25):\", find_lca(bst.root, 5, 25))  # Output: 20\n",
    "print(\"LCA(25, 35):\", find_lca(bst.root, 25, 35))  # Output: 30"
   ]
  },
  {
   "cell_type": "code",
   "execution_count": 5,
   "id": "c9b26551",
   "metadata": {},
   "outputs": [],
   "source": [
    "# Task 3: Checking if a Binary Tree is Balanced "
   ]
  },
  {
   "cell_type": "code",
   "execution_count": 6,
   "id": "a1d4e9ed",
   "metadata": {},
   "outputs": [
    {
     "name": "stdout",
     "output_type": "stream",
     "text": [
      "Is the tree balanced? True\n",
      "Is the tree balanced? False\n"
     ]
    }
   ],
   "source": [
    "def is_balanced(root):\n",
    "    def check_height(node):\n",
    "        if node is None:\n",
    "            return 0, True\n",
    "\n",
    "        left_height, left_balanced = check_height(node.left)\n",
    "        right_height, right_balanced = check_height(node.right)\n",
    "\n",
    "        # Check if the current node is balanced\n",
    "        balanced = left_balanced and right_balanced and abs(left_height - right_height) <= 1\n",
    "\n",
    "        # Height of the current node\n",
    "        height = max(left_height, right_height) + 1\n",
    "\n",
    "        return height, balanced\n",
    "\n",
    "    _, balanced = check_height(root)\n",
    "    return balanced\n",
    "\n",
    "# Test cases\n",
    "# Tree 1 (Balanced)\n",
    "#       50\n",
    "#      /  \\\n",
    "#     30   70\n",
    "#    / \\   / \\\n",
    "#   20 40 60 80\n",
    "print(\"Is the tree balanced?\", is_balanced(bst.root))  # Output: True\n",
    "\n",
    "# Tree 2 (Unbalanced)\n",
    "#       50\n",
    "#      /\n",
    "#     30\n",
    "#    /\n",
    "#   20\n",
    "unbalanced_bst = BinarySearchTree()\n",
    "unbalanced_bst.insert(50)\n",
    "unbalanced_bst.insert(30)\n",
    "unbalanced_bst.insert(20)\n",
    "print(\"Is the tree balanced?\", is_balanced(unbalanced_bst.root))  # Output: False"
   ]
  },
  {
   "cell_type": "code",
   "execution_count": null,
   "id": "c39547a5",
   "metadata": {},
   "outputs": [],
   "source": []
  }
 ],
 "metadata": {
  "kernelspec": {
   "display_name": "Python 3",
   "language": "python",
   "name": "python3"
  },
  "language_info": {
   "codemirror_mode": {
    "name": "ipython",
    "version": 3
   },
   "file_extension": ".py",
   "mimetype": "text/x-python",
   "name": "python",
   "nbconvert_exporter": "python",
   "pygments_lexer": "ipython3",
   "version": "3.12.10"
  }
 },
 "nbformat": 4,
 "nbformat_minor": 5
}
