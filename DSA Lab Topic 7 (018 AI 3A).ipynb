{
 "cells": [
  {
   "cell_type": "code",
   "execution_count": 1,
   "id": "f9b507cb",
   "metadata": {},
   "outputs": [],
   "source": [
    "# Topic 7: Heaps & Priority Queues \n",
    "# Task 1: Implementing a Min-Heap and Max-Heap "
   ]
  },
  {
   "cell_type": "code",
   "execution_count": 2,
   "id": "12283d3a",
   "metadata": {},
   "outputs": [],
   "source": [
    "class Heap:\n",
    "    def __init__(self, heap_type=\"min\"):\n",
    "        if heap_type not in [\"min\", \"max\"]:\n",
    "            raise ValueError(\"heap_type must be either 'min' or 'max'\")\n",
    "        self.heap_type = heap_type\n",
    "        self.data = []\n",
    "\n",
    "    def _compare(self, parent, child):\n",
    "        if self.heap_type == \"min\":\n",
    "            return parent > child\n",
    "        return parent < child\n",
    "\n",
    "    def _heapify_up(self, index):\n",
    "        parent_index = (index - 1) // 2\n",
    "        if index > 0 and self._compare(self.data[parent_index], self.data[index]):\n",
    "            self.data[parent_index], self.data[index] = self.data[index], self.data[parent_index]\n",
    "            self._heapify_up(parent_index)\n",
    "\n",
    "    def _heapify_down(self, index):\n",
    "        left_child = 2 * index + 1\n",
    "        right_child = 2 * index + 2\n",
    "        smallest_or_largest = index\n",
    "\n",
    "        if left_child < len(self.data) and self._compare(self.data[smallest_or_largest], self.data[left_child]):\n",
    "            smallest_or_largest = left_child\n",
    "        if right_child < len(self.data) and self._compare(self.data[smallest_or_largest], self.data[right_child]):\n",
    "            smallest_or_largest = right_child\n",
    "\n",
    "        if smallest_or_largest != index:\n",
    "            self.data[index], self.data[smallest_or_largest] = self.data[smallest_or_largest], self.data[index]\n",
    "            self._heapify_down(smallest_or_largest)\n",
    "\n",
    "    def insert(self, value):\n",
    "        self.data.append(value)\n",
    "        self._heapify_up(len(self.data) - 1)\n",
    "\n",
    "    def extract_root(self):\n",
    "        if not self.data:\n",
    "            raise IndexError(\"extract_root from an empty heap\")\n",
    "        root = self.data[0]\n",
    "        self.data[0] = self.data[-1]\n",
    "        self.data.pop()\n",
    "        if self.data:\n",
    "            self._heapify_down(0)\n",
    "        return root\n",
    "\n",
    "    def peek(self):\n",
    "        if not self.data:\n",
    "            raise IndexError(\"peek from an empty heap\")\n",
    "        return self.data[0]\n",
    "\n",
    "    def heapify(self, array):\n",
    "        self.data = array[:]\n",
    "        for i in range(len(self.data) // 2 - 1, -1, -1):\n",
    "            self._heapify_down(i)"
   ]
  },
  {
   "cell_type": "code",
   "execution_count": 3,
   "id": "06fcd551",
   "metadata": {},
   "outputs": [],
   "source": [
    "# Task 2: Implementing a Priority Queue Using a Heap "
   ]
  },
  {
   "cell_type": "code",
   "execution_count": 4,
   "id": "47214d64",
   "metadata": {},
   "outputs": [
    {
     "name": "stdout",
     "output_type": "stream",
     "text": [
      "Task B\n",
      "Task C\n",
      "Task D\n"
     ]
    }
   ],
   "source": [
    "class PriorityQueue:\n",
    "    def __init__(self):\n",
    "        self.heap = Heap(heap_type=\"min\")\n",
    "\n",
    "    def enqueue(self, value, priority):\n",
    "        # Insert a tuple (priority, value) into the heap\n",
    "        self.heap.insert((priority, value))\n",
    "\n",
    "    def dequeue(self):\n",
    "        # Extract the root of the heap (highest priority element)\n",
    "        if not self.heap.data:\n",
    "            raise IndexError(\"dequeue from an empty priority queue\")\n",
    "        return self.heap.extract_root()[1]  # Return the value, not the priority\n",
    "\n",
    "    def peek(self):\n",
    "        # Peek at the root of the heap (highest priority element)\n",
    "        if not self.heap.data:\n",
    "            raise IndexError(\"peek from an empty priority queue\")\n",
    "        return self.heap.peek()[1]  # Return the value, not the priority\n",
    "\n",
    "# Test cases\n",
    "pq = PriorityQueue()\n",
    "pq.enqueue(\"Task A\", 3)\n",
    "pq.enqueue(\"Task B\", 1)\n",
    "pq.enqueue(\"Task C\", 2)\n",
    "\n",
    "print(pq.dequeue())  # Output: \"Task B\" (highest priority)\n",
    "print(pq.peek())     # Output: \"Task C\" (next highest priority)\n",
    "pq.enqueue(\"Task D\", 0)\n",
    "print(pq.dequeue())  # Output: \"Task D\" (highest priority)"
   ]
  },
  {
   "cell_type": "code",
   "execution_count": 5,
   "id": "3580073c",
   "metadata": {},
   "outputs": [],
   "source": [
    "# Task 3: Finding the K Smallest and K Largest Elements Using a Heap "
   ]
  },
  {
   "cell_type": "code",
   "execution_count": 6,
   "id": "faa7142a",
   "metadata": {},
   "outputs": [
    {
     "name": "stdout",
     "output_type": "stream",
     "text": [
      "K Smallest Elements: [3, 4, 7]\n",
      "K Largest Elements: [20, 15]\n",
      "Heap-based approach time: 0.348802 seconds\n",
      "Sorting-based approach time: 0.100807 seconds\n"
     ]
    }
   ],
   "source": [
    "import time\n",
    "import random\n",
    "\n",
    "def find_k_smallest(arr, k):\n",
    "    # Use a Min-Heap to find the K smallest elements\n",
    "    min_heap = Heap(heap_type=\"min\")\n",
    "    min_heap.heapify(arr)\n",
    "    return [min_heap.extract_root() for _ in range(k)]\n",
    "\n",
    "def find_k_largest(arr, k):\n",
    "    # Use a Max-Heap to find the K largest elements\n",
    "    max_heap = Heap(heap_type=\"max\")\n",
    "    max_heap.heapify(arr)\n",
    "    return [max_heap.extract_root() for _ in range(k)]\n",
    "\n",
    "# Test cases\n",
    "arr = [10, 4, 3, 20, 15, 7]\n",
    "print(\"K Smallest Elements:\", find_k_smallest(arr, 3))  # Output: [3, 4, 7]\n",
    "print(\"K Largest Elements:\", find_k_largest(arr, 2))   # Output: [20, 15]\n",
    "\n",
    "# Comparison with sorting\n",
    "\n",
    "# Generate a large random list\n",
    "large_arr = random.sample(range(1, 1000000), 100000)\n",
    "\n",
    "k = 100\n",
    "\n",
    "# Measure time for heap-based approach\n",
    "start_time = time.time()\n",
    "heap_k_smallest = find_k_smallest(large_arr, k)\n",
    "heap_k_largest = find_k_largest(large_arr, k)\n",
    "heap_time = time.time() - start_time\n",
    "\n",
    "# Measure time for sorting-based approach\n",
    "start_time = time.time()\n",
    "sorted_k_smallest = sorted(large_arr)[:k]\n",
    "sorted_k_largest = sorted(large_arr, reverse=True)[:k]\n",
    "sort_time = time.time() - start_time\n",
    "\n",
    "print(f\"Heap-based approach time: {heap_time:.6f} seconds\")\n",
    "print(f\"Sorting-based approach time: {sort_time:.6f} seconds\")"
   ]
  },
  {
   "cell_type": "code",
   "execution_count": null,
   "id": "ebbd6054",
   "metadata": {},
   "outputs": [],
   "source": []
  }
 ],
 "metadata": {
  "kernelspec": {
   "display_name": "Python 3",
   "language": "python",
   "name": "python3"
  },
  "language_info": {
   "codemirror_mode": {
    "name": "ipython",
    "version": 3
   },
   "file_extension": ".py",
   "mimetype": "text/x-python",
   "name": "python",
   "nbconvert_exporter": "python",
   "pygments_lexer": "ipython3",
   "version": "3.12.10"
  }
 },
 "nbformat": 4,
 "nbformat_minor": 5
}
